{
  "nbformat": 4,
  "nbformat_minor": 0,
  "metadata": {
    "colab": {
      "provenance": []
    },
    "kernelspec": {
      "name": "python3",
      "display_name": "Python 3"
    },
    "language_info": {
      "name": "python"
    }
  },
  "cells": [
    {
      "cell_type": "markdown",
      "source": [
        "#K means with PSO"
      ],
      "metadata": {
        "id": "YybO67N9rAtO"
      }
    },
    {
      "cell_type": "markdown",
      "source": [
        "Below is the code for the kmedian facility location problem with added constraints like forbidden location and the minimum demand. PSO is used to solve this problem"
      ],
      "metadata": {
        "id": "l9ec6-0dOd-c"
      }
    },
    {
      "cell_type": "markdown",
      "source": [
        "The **Particle Swarm Optimization (PSO)** algorithm is a computational technique **inspired** by the collective behavior of natural organisms, such as **birds ** or **fish**, that move together to achieve a common goal. In PSO, a **group of particles** (representing potential solutions) navigates through a problem’s solution space to find the best possible solution. Each particle adjusts its position based on its own best-known solution (personal best) and the best solution discovered by the entire group (global best). This collaborative movement enables particles to converge toward optimal solutions over iterations. PSO is widely used for optimization problems in various fields, leveraging the power of collective intelligence to explore complex solution spaces and find optimal outcomes efficiently."
      ],
      "metadata": {
        "id": "gnPUvYabPIcA"
      }
    },
    {
      "cell_type": "code",
      "source": [
        "pip install gurobipy"
      ],
      "metadata": {
        "colab": {
          "base_uri": "https://localhost:8080/"
        },
        "id": "6779F5D3yrAz",
        "outputId": "a0c881c5-3f09-479e-8e61-b756702b413f"
      },
      "execution_count": null,
      "outputs": [
        {
          "output_type": "stream",
          "name": "stdout",
          "text": [
            "Collecting gurobipy\n",
            "  Downloading gurobipy-11.0.2-cp310-cp310-manylinux2014_x86_64.manylinux_2_17_x86_64.whl (13.4 MB)\n",
            "\u001b[2K     \u001b[90m━━━━━━━━━━━━━━━━━━━━━━━━━━━━━━━━━━━━━━━━\u001b[0m \u001b[32m13.4/13.4 MB\u001b[0m \u001b[31m19.0 MB/s\u001b[0m eta \u001b[36m0:00:00\u001b[0m\n",
            "\u001b[?25hInstalling collected packages: gurobipy\n",
            "Successfully installed gurobipy-11.0.2\n"
          ]
        }
      ]
    },
    {
      "cell_type": "code",
      "source": [
        "import numpy as np\n",
        "import matplotlib.pyplot as plt\n",
        "from sklearn.datasets import make_blobs\n",
        "from scipy.spatial.distance import cdist\n",
        "import random\n",
        "\n",
        "class KMeansPSO:\n",
        "    def __init__(self, w, c1, c2, max_iter, tau, X, n_clusters, forbidden_locations):\n",
        "        self.w = w\n",
        "        self.c1 = c1\n",
        "        self.c2 = c2\n",
        "        self.max_iter = max_iter\n",
        "        self.tau = tau\n",
        "        self.X = X\n",
        "        self.n_clusters = n_clusters\n",
        "        self.forbidden_locations = forbidden_locations\n",
        "        self.forbidden_locations_array = np.array(forbidden_locations)\n",
        "        self.penalty = 1e6  # Large penalty value\n",
        "\n",
        "    # Define the fitness function for PSO with penalty\n",
        "    def fitness(self, X, centroids, labels):\n",
        "        # Calculate the sum of squared distances\n",
        "        total_distance = np.sum([np.linalg.norm(X[i] - centroids[labels[i]]) for i in range(len(X))])\n",
        "\n",
        "        # Add penalty for forbidden locations\n",
        "        forbidden_set = set(map(tuple, self.forbidden_locations))\n",
        "        for centroid in centroids:\n",
        "            if tuple(centroid) in forbidden_set:\n",
        "                total_distance += self.penalty\n",
        "\n",
        "        # Add penalty for clusters with fewer than tau points\n",
        "        cluster_sizes = np.bincount(labels, minlength=self.n_clusters)\n",
        "        total_distance += np.sum([self.penalty for size in cluster_sizes if size < self.tau])\n",
        "\n",
        "        return total_distance\n",
        "\n",
        "    # Initialize the particles (centroids) and velocities randomly\n",
        "    def initialize_particles(self, X, n_clusters, n_features):\n",
        "        np.random.seed(42)\n",
        "        particles = np.random.rand(n_clusters, n_features) * (X.max(axis=0) - X.min(axis=0)) + X.min(axis=0)\n",
        "        velocities = np.zeros((n_clusters, n_features))\n",
        "        return particles, velocities\n",
        "\n",
        "    # Update velocity and position for PSO\n",
        "    def update_velocity_position(self, particles, velocities, p_best, g_best, w, c1, c2):\n",
        "        for i in range(len(particles)):\n",
        "            random.seed(42)\n",
        "            r1 = random.random()\n",
        "            random.seed(42)\n",
        "            r2 = random.random()\n",
        "            velocities[i] = w * velocities[i] + c1 * r1 * (p_best[i] - particles[i]) + c2 * r2 * (g_best - particles[i])\n",
        "            particles[i] = particles[i] + velocities[i]\n",
        "        return particles, velocities\n",
        "\n",
        "    # Update centroids based on assignments\n",
        "    def update_centroid(self, X, labels, n_clusters):\n",
        "        centroids = np.zeros((n_clusters, X.shape[1]))\n",
        "        for i in range(n_clusters):\n",
        "            points = X[labels == i]\n",
        "            if len(points) > 0:\n",
        "                centroids[i] = points.mean(axis=0)\n",
        "        return centroids\n",
        "\n",
        "    # Check for forbidden locations\n",
        "    def check_forbidden_locations(self, centroids, forbidden_locations):\n",
        "        forbidden_set = set(map(tuple, forbidden_locations))  # Convert forbidden locations to a set of tuples for faster lookup\n",
        "        new_centroids = centroids.copy()\n",
        "        for i, centroid in enumerate(centroids):\n",
        "            if tuple(centroid) in forbidden_set:\n",
        "                # Reinitialize the centroid if it's in a forbidden location\n",
        "                new_centroid = np.random.rand(centroids.shape[1])\n",
        "                while tuple(new_centroid) in forbidden_set:\n",
        "                    new_centroid = np.random.rand(centroids.shape[1])\n",
        "                new_centroids[i] = new_centroid\n",
        "        return new_centroids\n",
        "\n",
        "    # K-means clustering with PSO and additional constraints\n",
        "    def constrained_kmeans_pso(self, X, n_clusters, max_iter, tau, forbidden_locations):\n",
        "        n_features = X.shape[1]\n",
        "\n",
        "        # Initialize particles (centroids) and velocities\n",
        "        particles, velocities = self.initialize_particles(X, n_clusters, n_features)\n",
        "        p_best = particles.copy()\n",
        "        g_best = particles[np.argmin([self.fitness(X, particles, np.argmin(cdist(X, particles), axis=1)) for p in particles])]\n",
        "\n",
        "        for iteration in range(max_iter):\n",
        "            # E-step: Assign points to the nearest centroid\n",
        "            labels = np.argmin(cdist(X, particles), axis=1)\n",
        "\n",
        "            # Calculate fitness\n",
        "            current_fitness = self.fitness(X, particles, labels)\n",
        "\n",
        "            # Update personal best\n",
        "            for i in range(n_clusters):\n",
        "                if self.fitness(X, particles, labels) < self.fitness(X, p_best, labels):\n",
        "                    p_best[i] = particles[i]\n",
        "\n",
        "            # Update global best\n",
        "            g_best = p_best[np.argmin([self.fitness(X, p_best, labels) for _ in range(n_clusters)])]\n",
        "\n",
        "            # Update velocity and position using PSO\n",
        "            particles, velocities = self.update_velocity_position(particles, velocities, p_best, g_best, self.w, self.c1, self.c2)\n",
        "\n",
        "            # Update centroids\n",
        "            new_particles = self.update_centroid(X, labels, n_clusters)\n",
        "\n",
        "            # Check for forbidden locations\n",
        "            new_particles = self.check_forbidden_locations(new_particles, forbidden_locations)\n",
        "\n",
        "            # Check if centroids have changed significantly\n",
        "            if np.allclose(new_particles, particles, atol=1e-4):\n",
        "                break\n",
        "\n",
        "            particles = new_particles\n",
        "\n",
        "        particles = self.check_forbidden_locations(particles)\n",
        "        labels = np.argmin(cdist(X, particles), axis=1)\n",
        "        return particles, labels\n",
        "\n",
        "# Example usage\n",
        "X1, _ = make_blobs(n_samples=300, centers=4, n_features=2, random_state=42)  # this is a 2D array\n",
        "forbidden_locations = [(1.0, 1.0), (-8.87357218,  7.17458342)]  # , (-2.16539536, 5.27894805)\n",
        "model = KMeansPSO(w=0.5, c1=1.5, c2=1.5, max_iter=1000, tau=20, n_clusters=5, X=X1, forbidden_locations=forbidden_locations)\n",
        "\n",
        "# Parameters\n",
        "n_clusters = 5\n",
        "tau = 20\n",
        "\n",
        "centroid, labels = model.constrained_kmeans_pso(X1, n_clusters, model.max_iter, tau, forbidden_locations)\n",
        "\n",
        "for i in range(len(labels)):\n",
        "    if labels[i] == 0:\n",
        "        plt.scatter(X1[i][0], X1[i][1], marker='o', color='r')\n",
        "    if labels[i] == 1:\n",
        "        plt.scatter(X1[i][0], X1[i][1], marker='o', color='g')\n",
        "    if labels[i] == 2:\n",
        "        plt.scatter(X1[i][0], X1[i][1], marker='o', color='b')\n",
        "    if labels[i] == 3:\n",
        "        plt.scatter(X1[i][0], X1[i][1], marker='o', color='y')\n",
        "    if labels[i] == 4:\n",
        "        plt.scatter(X1[i][0], X1[i][1], marker='o', color='m')\n",
        "\n",
        "plt.scatter(centroid[:, 0], centroid[:, 1], marker='*', color='black')\n",
        "plt.show()\n"
      ],
      "metadata": {
        "colab": {
          "base_uri": "https://localhost:8080/",
          "height": 430
        },
        "id": "Fr5UHk36jhko",
        "outputId": "4033baeb-7dbc-424e-cdb2-86abac487506"
      },
      "execution_count": null,
      "outputs": [
        {
          "output_type": "display_data",
          "data": {
            "text/plain": [
              "<Figure size 640x480 with 1 Axes>"
            ],
            "image/png": "[encoded data removed]"
          },
          "metadata": {}
        }
      ]
    },
    {
      "cell_type": "code",
      "source": [
        "centroid\n",
        "# for cent in centroid:\n",
        "#   tuple_cent = tuple(cent)\n",
        "#   print(f\"{tuple_cent[1]:.2f}\")"
      ],
      "metadata": {
        "colab": {
          "base_uri": "https://localhost:8080/"
        },
        "id": "9po0EvqOkYaj",
        "outputId": "ea5f8358-858a-4ac2-800e-fe5cf067b477"
      },
      "execution_count": null,
      "outputs": [
        {
          "output_type": "execute_result",
          "data": {
            "text/plain": [
              "array([[ 0.        ,  0.        ],\n",
              "       [ 6.73771052, -5.77833986],\n",
              "       [-6.38436959, -6.42630048],\n",
              "       [-9.70279864,  9.47405888],\n",
              "       [ 0.        ,  0.        ]])"
            ]
          },
          "metadata": {},
          "execution_count": 14
        }
      ]
    },
    {
      "cell_type": "code",
      "source": [
        "labels"
      ],
      "metadata": {
        "colab": {
          "base_uri": "https://localhost:8080/"
        },
        "id": "icCgviI8kEtZ",
        "outputId": "976a17d7-bbb7-4270-d8f7-1a3e800f60f5"
      },
      "execution_count": null,
      "outputs": [
        {
          "output_type": "execute_result",
          "data": {
            "text/plain": [
              "array([1, 3, 2, 3, 3, 3, 3, 2, 2, 2, 2, 3, 1, 1, 2, 3, 3, 3, 3, 3, 3, 3,\n",
              "       3, 2, 1, 3, 1, 2, 2, 3, 3, 1, 1, 1, 2, 3, 1, 2, 3, 2, 1, 3, 1, 3,\n",
              "       2, 2, 1, 2, 2, 3, 1, 1, 1, 2, 1, 1, 2, 2, 1, 3, 2, 2, 2, 3, 2, 3,\n",
              "       2, 3, 2, 3, 1, 1, 1, 2, 2, 2, 3, 1, 2, 1, 1, 3, 1, 2, 1, 3, 1, 3,\n",
              "       3, 1, 3, 2, 2, 2, 3, 1, 1, 2, 3, 3, 3, 3, 3, 2, 2, 3, 2, 2, 1, 3,\n",
              "       2, 2, 3, 3, 3, 2, 1, 3, 2, 3, 2, 2, 1, 3, 3, 3, 3, 1, 2, 2, 2, 3,\n",
              "       2, 2, 3, 1, 2, 3, 3, 2, 3, 3, 3, 1, 1, 1, 3, 3, 2, 3, 3, 2, 3, 1,\n",
              "       1, 1, 1, 3, 1, 1, 3, 3, 1, 1, 1, 2, 3, 1, 2, 2, 3, 3, 3, 1, 1, 2,\n",
              "       3, 2, 2, 3, 3, 3, 3, 3, 2, 3, 1, 1, 1, 2, 3, 1, 1, 2, 3, 2, 1, 1,\n",
              "       2, 1, 3, 1, 1, 2, 2, 1, 2, 1, 1, 1, 1, 3, 2, 3, 3, 1, 1, 3, 1, 2,\n",
              "       2, 1, 3, 3, 2, 1, 1, 2, 2, 2, 2, 2, 2, 3, 2, 2, 1, 2, 2, 3, 1, 1,\n",
              "       2, 1, 3, 3, 1, 3, 2, 1, 1, 2, 1, 2, 2, 2, 1, 1, 1, 1, 2, 1, 2, 1,\n",
              "       2, 1, 3, 2, 3, 3, 3, 2, 3, 1, 1, 2, 1, 1, 3, 3, 1, 1, 1, 2, 2, 2,\n",
              "       3, 3, 2, 3, 1, 1, 1, 1, 2, 1, 2, 1, 1, 2])"
            ]
          },
          "metadata": {},
          "execution_count": 16
        }
      ]
    },
    {
      "cell_type": "code",
      "source": [
        "np.unique(labels)"
      ],
      "metadata": {
        "colab": {
          "base_uri": "https://localhost:8080/"
        },
        "id": "kmQq5xp8kGq1",
        "outputId": "2e73e680-e7c1-4c3c-af3e-e0b03bfce4f9"
      },
      "execution_count": null,
      "outputs": [
        {
          "output_type": "execute_result",
          "data": {
            "text/plain": [
              "array([1, 2, 3])"
            ]
          },
          "metadata": {},
          "execution_count": 17
        }
      ]
    },
    {
      "cell_type": "code",
      "source": [
        "count = np.zeros(5)\n",
        "for i in range(len(labels)):\n",
        "   if labels[i] == 0:\n",
        "     count[0] += 1\n",
        "   elif labels[i] == 1:\n",
        "     count[1] += 1\n",
        "   elif labels[i] == 2:\n",
        "     count[2] += 1\n",
        "   elif labels[i] == 3:\n",
        "     count[3] += 1\n",
        "   elif labels[i] == 4:\n",
        "     count[4] += 1\n",
        "\n",
        "count"
      ],
      "metadata": {
        "colab": {
          "base_uri": "https://localhost:8080/"
        },
        "id": "X0ShzuU0kNpy",
        "outputId": "ba9c4ed6-efa5-498b-c0e0-654ce6145127"
      },
      "execution_count": null,
      "outputs": [
        {
          "output_type": "execute_result",
          "data": {
            "text/plain": [
              "array([  0., 100., 100., 100.,   0.])"
            ]
          },
          "metadata": {},
          "execution_count": 18
        }
      ]
    },
    {
      "cell_type": "code",
      "source": [
        "centroid"
      ],
      "metadata": {
        "colab": {
          "base_uri": "https://localhost:8080/"
        },
        "id": "BxjiNnax8v8v",
        "outputId": "ef61264d-c224-4d41-f8df-8796c029cafe"
      },
      "execution_count": null,
      "outputs": [
        {
          "output_type": "execute_result",
          "data": {
            "text/plain": [
              "array([[-8.00489101,  3.17314505],\n",
              "       [-7.53128241,  7.98021992],\n",
              "       [-8.47486329, -1.38236744],\n",
              "       [-2.16539536,  5.27894805]])"
            ]
          },
          "metadata": {},
          "execution_count": 76
        }
      ]
    },
    {
      "cell_type": "markdown",
      "source": [],
      "metadata": {
        "id": "8AKRv1oYzjTK"
      }
    },
    {
      "cell_type": "markdown",
      "source": [
        "#Constrained K-Means Clustering Algorithm\n",
        "\n",
        "In this problem only one constraint is added in the kmeans algorithm. The cosntraint is of minimum demand. These type of constraints can be seen when k number of mobile tower is to be located in a particular region with satisfying atleast \"m\" user demand."
      ],
      "metadata": {
        "id": "TrwbpcsLWSU_"
      }
    },
    {
      "cell_type": "code",
      "source": [
        "pip install gurobipy"
      ],
      "metadata": {
        "colab": {
          "base_uri": "https://localhost:8080/"
        },
        "id": "-QW53EWUKiir",
        "outputId": "8321db1a-f46e-4fb7-f438-0da7fda059ba"
      },
      "execution_count": null,
      "outputs": [
        {
          "output_type": "stream",
          "name": "stdout",
          "text": [
            "Requirement already satisfied: gurobipy in /usr/local/lib/python3.10/dist-packages (11.0.2)\n"
          ]
        }
      ]
    },
    {
      "cell_type": "code",
      "source": [
        "from gurobipy import Model, GRB, quicksum  # Import Model, GRB, and quicksum from gurobipy\n",
        "import numpy as np\n",
        "\n",
        "def optimize_label(D, C, k, tau, mu=None):\n",
        "    # Create a new model\n",
        "    model = Model()  # Use Model() to create a model\n",
        "    model.setParam('OutputFlag', 0)  # turn off Gurobi output\n",
        "\n",
        "    # Create a vector of variables x\n",
        "    m = D.shape[0]  # Number of demand points\n",
        "    c = C.shape[0]  # Number of clusters (facility locations)\n",
        "    vtype = GRB.BINARY  # Use GRB.BINARY for binary variables\n",
        "\n",
        "    # Initialize T as a dictionary to store variables\n",
        "    T = {}\n",
        "    for i in range(m):\n",
        "        for j in range(c):\n",
        "            T[i, j] = model.addVar(vtype=vtype, name=f\"T_{i}_{j}\")\n",
        "\n",
        "    # Add constraints\n",
        "    # Each cluster should have at least tau demand points\n",
        "    for j in range(c):\n",
        "        model.addConstr(sum(T[i, j] for i in range(m)) >= tau, f\"c0_{j}\")\n",
        "\n",
        "    # Each demand point must be assigned to exactly one cluster\n",
        "    for i in range(m):\n",
        "        model.addConstr(sum(T[i, j] for j in range(c)) == 1, f\"c1_{i}\")\n",
        "\n",
        "    # Set the objective function\n",
        "    obj = quicksum(\n",
        "        T[i, j] * (1 / 2) * np.linalg.norm(D[i] - C[j])\n",
        "        for i in range(m)\n",
        "        for j in range(c)\n",
        "    )\n",
        "    model.setObjective(obj, GRB.MINIMIZE)\n",
        "\n",
        "    # Optimize model\n",
        "    model.optimize()\n",
        "\n",
        "    # Retrieve the optimized values of the variables and reshape into matrix form\n",
        "    T_values = np.array([T[i, j].X for i in range(m) for j in range(c)]).reshape(m, c)\n",
        "    return T_values\n",
        "\n",
        "# Example usage\n",
        "D = np.array([[1, 2], [3, 4], [5, 6]])\n",
        "C = np.array([[2, 3], [4, 5]])\n",
        "k = 2\n",
        "tau = 1\n",
        "\n",
        "# This ia the matrix for T values which contain the value of T for each point  in the cluster\n",
        "T_values = optimize_label(D, C, k, tau)\n",
        "print(T_values)\n"
      ],
      "metadata": {
        "colab": {
          "base_uri": "https://localhost:8080/"
        },
        "id": "TM-EP1cmhk0Z",
        "outputId": "b2bc0d17-8be1-4cc6-893e-aabdfee506f7"
      },
      "execution_count": null,
      "outputs": [
        {
          "output_type": "stream",
          "name": "stdout",
          "text": [
            "[[1. 0.]\n",
            " [1. 0.]\n",
            " [0. 1.]]\n"
          ]
        }
      ]
    },
    {
      "cell_type": "code",
      "source": [
        "import numpy as np\n",
        "\n",
        "def Update_Centroid(T, D, m, k, C):\n",
        "    for i in range(k):\n",
        "        cluster_sum = sum(T[j][i] for j in range(m))\n",
        "        if cluster_sum > 0:\n",
        "            num = sum(T[j][i] * D[j] for j in range(m))\n",
        "            den = sum(T[j][i] for j in range(m))\n",
        "            C[i] = num / den\n",
        "        else:\n",
        "            C[i] = C[i]\n",
        "    return C\n"
      ],
      "metadata": {
        "id": "3T2qA4Ftm9iH"
      },
      "execution_count": null,
      "outputs": []
    },
    {
      "cell_type": "markdown",
      "source": [
        "#long lat"
      ],
      "metadata": {
        "id": "Jr7VNa_3eXI8"
      }
    },
    {
      "cell_type": "markdown",
      "source": [
        "#lat long to coordinate point"
      ],
      "metadata": {
        "id": "Mle531kyUl56"
      }
    },
    {
      "cell_type": "code",
      "source": [
        "import numpy as np\n",
        "\n",
        "def latlon_to_xy(lat, lon, lat0, lon0):\n",
        "    \"\"\"\n",
        "    Convert latitude and longitude to x, y coordinates using equirectangular projection.\n",
        "\n",
        "    Parameters:\n",
        "    lat (float): Latitude of the point to convert.\n",
        "    lon (float): Longitude of the point to convert.\n",
        "    lat0 (float): Reference latitude (origin).\n",
        "    lon0 (float): Reference longitude (origin).\n",
        "\n",
        "    Returns:\n",
        "    x (float): x coordinate.\n",
        "    y (float): y coordinate.\n",
        "    \"\"\"\n",
        "    # Convert degrees to radians\n",
        "    lat = np.radians(lat)\n",
        "    lon = np.radians(lon)\n",
        "    lat0 = np.radians(lat0)\n",
        "    lon0 = np.radians(lon0)\n",
        "\n",
        "    # Radius of the Earth (in meters)\n",
        "    R = 6371000\n",
        "\n",
        "    # Compute x and y coordinates\n",
        "    x = R * (lon - lon0) * np.cos((lat + lat0) / 2)\n",
        "    y = R * (lat - lat0)\n",
        "\n",
        "    return x, y"
      ],
      "metadata": {
        "id": "iqARYpkZWl8N"
      },
      "execution_count": null,
      "outputs": []
    },
    {
      "cell_type": "markdown",
      "source": [
        "#generating the coordinates"
      ],
      "metadata": {
        "id": "LJ_didSNVXYM"
      }
    },
    {
      "cell_type": "code",
      "source": [
        "import numpy as np\n",
        "\n",
        "# Coordinates of the cities\n",
        "coordinates = [\n",
        "    (34.0522, -118.2437),  # Los Angeles\n",
        "    (41.8781, -87.6298),   # Chicago\n",
        "    (29.7604, -95.3698),   # Houston\n",
        "    (40.7128, -74.0060)    # New York City (reference point)\n",
        "]\n",
        "\n",
        "# Function to generate random coordinates near given point\n",
        "def generate_random_coordinates(lat, lon, num_points, min_distance=0.1):\n",
        "    # Convert degrees to kilometers (approximate)\n",
        "    lat_km = 111.32  # 1 degree latitude ≈ 111.32 km\n",
        "    lon_km = 40075.0 / 360.0  # 1 degree longitude at equator ≈ 40075 km / 360 degrees\n",
        "\n",
        "    # Generate random distances and angles\n",
        "    distances = np.random.uniform(low=min_distance, high=5.0, size=num_points)\n",
        "    angles = np.random.uniform(low=0.0, high=2*np.pi, size=num_points)\n",
        "\n",
        "    # Convert distances to kilometers\n",
        "    dx = distances * np.cos(angles) * lon_km\n",
        "    dy = distances * np.sin(angles) * lat_km\n",
        "\n",
        "    # Calculate new coordinates\n",
        "    new_lats = lat + dy\n",
        "    new_lons = lon + dx\n",
        "\n",
        "    return list(zip(new_lats, new_lons))\n",
        "\n",
        "# Generate 25 coordinates near each city\n",
        "num_points_per_city = 100\n",
        "all_coordinates = []\n",
        "\n",
        "for lat, lon in coordinates:\n",
        "    new_coords = generate_random_coordinates(lat, lon, num_points_per_city)\n",
        "    all_coordinates.extend(new_coords)\n",
        "\n",
        "# Shuffle coordinates to randomize order\n",
        "np.random.shuffle(all_coordinates)\n",
        "\n",
        "#all coordinates having some demand\n",
        "generated_coordinates = np.array(all_coordinates)"
      ],
      "metadata": {
        "id": "h9pZZzDpVgOE"
      },
      "execution_count": null,
      "outputs": []
    },
    {
      "cell_type": "code",
      "source": [
        "coordinates_list = []\n",
        "for i in range(generated_coordinates.shape[0]):\n",
        "    lat, lon = generated_coordinates[i]\n",
        "    coordinates_list.append((lat, lon))\n",
        "coordinates = coordinates_list\n",
        "\n",
        "lat0 = 34.0522\n",
        "lon0 = -118.2437"
      ],
      "metadata": {
        "id": "xS_BuhsyVpKg"
      },
      "execution_count": null,
      "outputs": []
    },
    {
      "cell_type": "code",
      "source": [
        "# Convert points to Cartesian coordinates\n",
        "cartesian_coordinates = []\n",
        "for lat, lon in coordinates:\n",
        "    x, y = latlon_to_xy(lat, lon, lat0, lon0)\n",
        "    cartesian_coordinates.append([x, y])\n",
        "\n",
        "# Convert list to NumPy array\n",
        "cartesian_coordinates = np.array(cartesian_coordinates)   # the cartesian coordinates of the long and lat\n"
      ],
      "metadata": {
        "id": "VaxMoAnbVRnO"
      },
      "execution_count": null,
      "outputs": []
    },
    {
      "cell_type": "markdown",
      "source": [
        "#for longitude and latitude of a point"
      ],
      "metadata": {
        "id": "VBxkYZIwUJpM"
      }
    },
    {
      "cell_type": "code",
      "source": [
        "pip install geopandas matplotlib contextily"
      ],
      "metadata": {
        "colab": {
          "base_uri": "https://localhost:8080/"
        },
        "id": "8qoUWl5fXa17",
        "outputId": "06feef3b-01d1-4595-fb37-6a1de4269d92"
      },
      "execution_count": null,
      "outputs": [
        {
          "output_type": "stream",
          "name": "stdout",
          "text": [
            "Requirement already satisfied: geopandas in /usr/local/lib/python3.10/dist-packages (0.13.2)\n",
            "Requirement already satisfied: matplotlib in /usr/local/lib/python3.10/dist-packages (3.7.1)\n",
            "Requirement already satisfied: contextily in /usr/local/lib/python3.10/dist-packages (1.6.0)\n",
            "Requirement already satisfied: fiona>=1.8.19 in /usr/local/lib/python3.10/dist-packages (from geopandas) (1.9.6)\n",
            "Requirement already satisfied: packaging in /usr/local/lib/python3.10/dist-packages (from geopandas) (24.1)\n",
            "Requirement already satisfied: pandas>=1.1.0 in /usr/local/lib/python3.10/dist-packages (from geopandas) (2.0.3)\n",
            "Requirement already satisfied: pyproj>=3.0.1 in /usr/local/lib/python3.10/dist-packages (from geopandas) (3.6.1)\n",
            "Requirement already satisfied: shapely>=1.7.1 in /usr/local/lib/python3.10/dist-packages (from geopandas) (2.0.4)\n",
            "Requirement already satisfied: contourpy>=1.0.1 in /usr/local/lib/python3.10/dist-packages (from matplotlib) (1.2.1)\n",
            "Requirement already satisfied: cycler>=0.10 in /usr/local/lib/python3.10/dist-packages (from matplotlib) (0.12.1)\n",
            "Requirement already satisfied: fonttools>=4.22.0 in /usr/local/lib/python3.10/dist-packages (from matplotlib) (4.53.0)\n",
            "Requirement already satisfied: kiwisolver>=1.0.1 in /usr/local/lib/python3.10/dist-packages (from matplotlib) (1.4.5)\n",
            "Requirement already satisfied: numpy>=1.20 in /usr/local/lib/python3.10/dist-packages (from matplotlib) (1.25.2)\n",
            "Requirement already satisfied: pillow>=6.2.0 in /usr/local/lib/python3.10/dist-packages (from matplotlib) (9.4.0)\n",
            "Requirement already satisfied: pyparsing>=2.3.1 in /usr/local/lib/python3.10/dist-packages (from matplotlib) (3.1.2)\n",
            "Requirement already satisfied: python-dateutil>=2.7 in /usr/local/lib/python3.10/dist-packages (from matplotlib) (2.8.2)\n",
            "Requirement already satisfied: geopy in /usr/local/lib/python3.10/dist-packages (from contextily) (2.3.0)\n",
            "Requirement already satisfied: mercantile in /usr/local/lib/python3.10/dist-packages (from contextily) (1.2.1)\n",
            "Requirement already satisfied: rasterio in /usr/local/lib/python3.10/dist-packages (from contextily) (1.3.10)\n",
            "Requirement already satisfied: requests in /usr/local/lib/python3.10/dist-packages (from contextily) (2.31.0)\n",
            "Requirement already satisfied: joblib in /usr/local/lib/python3.10/dist-packages (from contextily) (1.4.2)\n",
            "Requirement already satisfied: xyzservices in /usr/local/lib/python3.10/dist-packages (from contextily) (2024.6.0)\n",
            "Requirement already satisfied: attrs>=19.2.0 in /usr/local/lib/python3.10/dist-packages (from fiona>=1.8.19->geopandas) (23.2.0)\n",
            "Requirement already satisfied: certifi in /usr/local/lib/python3.10/dist-packages (from fiona>=1.8.19->geopandas) (2024.6.2)\n",
            "Requirement already satisfied: click~=8.0 in /usr/local/lib/python3.10/dist-packages (from fiona>=1.8.19->geopandas) (8.1.7)\n",
            "Requirement already satisfied: click-plugins>=1.0 in /usr/local/lib/python3.10/dist-packages (from fiona>=1.8.19->geopandas) (1.1.1)\n",
            "Requirement already satisfied: cligj>=0.5 in /usr/local/lib/python3.10/dist-packages (from fiona>=1.8.19->geopandas) (0.7.2)\n",
            "Requirement already satisfied: six in /usr/local/lib/python3.10/dist-packages (from fiona>=1.8.19->geopandas) (1.16.0)\n",
            "Requirement already satisfied: pytz>=2020.1 in /usr/local/lib/python3.10/dist-packages (from pandas>=1.1.0->geopandas) (2023.4)\n",
            "Requirement already satisfied: tzdata>=2022.1 in /usr/local/lib/python3.10/dist-packages (from pandas>=1.1.0->geopandas) (2024.1)\n",
            "Requirement already satisfied: geographiclib<3,>=1.52 in /usr/local/lib/python3.10/dist-packages (from geopy->contextily) (2.0)\n",
            "Requirement already satisfied: affine in /usr/local/lib/python3.10/dist-packages (from rasterio->contextily) (2.4.0)\n",
            "Requirement already satisfied: snuggs>=1.4.1 in /usr/local/lib/python3.10/dist-packages (from rasterio->contextily) (1.4.7)\n",
            "Requirement already satisfied: setuptools in /usr/local/lib/python3.10/dist-packages (from rasterio->contextily) (67.7.2)\n",
            "Requirement already satisfied: charset-normalizer<4,>=2 in /usr/local/lib/python3.10/dist-packages (from requests->contextily) (3.3.2)\n",
            "Requirement already satisfied: idna<4,>=2.5 in /usr/local/lib/python3.10/dist-packages (from requests->contextily) (3.7)\n",
            "Requirement already satisfied: urllib3<3,>=1.21.1 in /usr/local/lib/python3.10/dist-packages (from requests->contextily) (2.0.7)\n"
          ]
        }
      ]
    },
    {
      "cell_type": "code",
      "source": [
        "import numpy as np\n",
        "\n",
        "def FacilityAllocation(n_clusters, D, tau, max_iter, mu=None):\n",
        "    m = D.shape[0]\n",
        "    k = n_clusters\n",
        "\n",
        "    # Initialize cluster centers randomly\n",
        "    C = np.random.rand(k, D.shape[1])\n",
        "\n",
        "    print(\"Initialized cluster centers for the facility locations are:\\n\")\n",
        "    print(C)\n",
        "\n",
        "    i = 0\n",
        "    while i<max_iter:\n",
        "        T_val = optimize_label(D, C, k, tau, mu=None)\n",
        "        c_h = Update_Centroid(T_val, D, m, k, C)\n",
        "\n",
        "        if np.allclose(c_h, C, rtol=1e-06, atol=1e-08):\n",
        "            C = c_h\n",
        "            break\n",
        "\n",
        "        C = c_h\n",
        "        i += 1\n",
        "\n",
        "    return C, i\n"
      ],
      "metadata": {
        "id": "DLsglU_Rb2ua"
      },
      "execution_count": null,
      "outputs": []
    },
    {
      "cell_type": "markdown",
      "source": [
        "#converting cartesian to lat and long"
      ],
      "metadata": {
        "id": "h6mvvQJYW13x"
      }
    },
    {
      "cell_type": "code",
      "source": [
        "import numpy as np\n",
        "\n",
        "def xy_to_latlon(x, y, lat0, lon0):\n",
        "    \"\"\"\n",
        "    Convert x, y coordinates to latitude and longitude using equirectangular projection.\n",
        "\n",
        "    Parameters:\n",
        "    x (float): x coordinate.\n",
        "    y (float): y coordinate.\n",
        "    lat0 (float): Reference latitude (origin).\n",
        "    lon0 (float): Reference longitude (origin).\n",
        "\n",
        "    Returns:\n",
        "    lat (float): Latitude.\n",
        "    lon (float): Longitude.\n",
        "    \"\"\"\n",
        "    # Radius of the Earth (in meters)\n",
        "    R = 6371000\n",
        "\n",
        "    # Convert degrees to radians\n",
        "    lat0 = np.radians(lat0)\n",
        "    lon0 = np.radians(lon0)\n",
        "\n",
        "    # Compute latitude and longitude\n",
        "    lat = y / R + lat0\n",
        "    lon = x / (R * np.cos((lat + lat0) / 2)) + lon0\n",
        "\n",
        "    # Convert radians back to degrees\n",
        "    lat = np.degrees(lat)\n",
        "    lon = np.degrees(lon)\n",
        "\n",
        "    return lat, lon\n",
        "\n",
        "coordinates_center = np.array(center_coord)\n",
        "lat0 = 34.0522\n",
        "lon0 = -118.2437\n",
        "\n",
        "# Convert Cartesian coordinates to geographic coordinates\n",
        "center_latlon = []\n",
        "for i in range(coordinates_center.shape[0]):\n",
        "    x= coordinates_center[i][0]\n",
        "    y = coordinates_center[i][1]\n",
        "    lat, lon = xy_to_latlon(x, y, lat0, lon0)\n",
        "    center_latlon.append((lat, lon))\n",
        "cluster_center = np.array(center_latlon)"
      ],
      "metadata": {
        "id": "yLJ-tpidXDme"
      },
      "execution_count": null,
      "outputs": []
    },
    {
      "cell_type": "code",
      "source": [
        "center_latlon"
      ],
      "metadata": {
        "colab": {
          "base_uri": "https://localhost:8080/"
        },
        "id": "BDJDyBhhZGWa",
        "outputId": "04caaa4d-7949-4880-a14b-ee6e08ed7f68"
      },
      "execution_count": null,
      "outputs": [
        {
          "output_type": "execute_result",
          "data": {
            "text/plain": [
              "[(199.19864464427357, -197.14966435154375),\n",
              " (-96.08565570249898, -270.3813848339129),\n",
              " (2.1143547870756767, 66.68553614903465),\n",
              " (-206.87642018762028, 422.65010409532744),\n",
              " (-43.09120527581618, -46.24351561310889)]"
            ]
          },
          "metadata": {},
          "execution_count": 99
        }
      ]
    },
    {
      "cell_type": "code",
      "source": [
        "import geopandas as gpd\n",
        "import matplotlib.pyplot as plt\n",
        "import contextily as ctx\n",
        "from shapely.geometry import Point\n",
        "\n",
        "# Convert coordinates to GeoDataFrame\n",
        "geometry = [Point(lon, lat) for lat, lon in coordinates]\n",
        "gdf = gpd.GeoDataFrame(geometry=geometry)\n",
        "\n",
        "# Set coordinate reference system to WGS84 (EPSG:4326)\n",
        "gdf.set_crs(epsg=4326, inplace=True)\n",
        "\n",
        "# Convert new points to GeoDataFrame\n",
        "geometry_new = [Point(lon, lat) for lat, lon in center_latlon]\n",
        "gdf_new = gpd.GeoDataFrame(geometry=geometry_new)\n",
        "\n",
        "# Set coordinate reference system to WGS84 (EPSG:4326)\n",
        "gdf_new.set_crs(epsg=4326, inplace=True)\n",
        "\n",
        "# Plot the original points in red\n",
        "ax = gdf.plot(figsize=(10, 10), color='red', alpha=0.5, markersize=10)\n",
        "\n",
        "# Plot the new points in green\n",
        "gdf_new.plot(ax=ax, color='green', alpha=0.5, markersize=100)\n",
        "\n",
        "# Add basemap using OpenStreetMap\n",
        "ctx.add_basemap(ax, crs=gdf.crs.to_string(), source=ctx.providers.OpenStreetMap.Mapnik)\n",
        "\n",
        "# Show the plot\n",
        "plt.xlabel('Longitude')\n",
        "plt.ylabel('Latitude')\n",
        "plt.title('Points on Map')\n",
        "plt.show()\n"
      ],
      "metadata": {
        "colab": {
          "base_uri": "https://localhost:8080/",
          "height": 892
        },
        "id": "HQvz8t9qZVsp",
        "outputId": "6c412775-560d-4af6-a695-c77905a01bee"
      },
      "execution_count": null,
      "outputs": [
        {
          "output_type": "display_data",
          "data": {
            "text/plain": [
              "<Figure size 1000x1000 with 1 Axes>"
            ],
            "image/png": "[encoded data removed]"
          },
          "metadata": {}
        }
      ]
    },
    {
      "cell_type": "markdown",
      "source": [
        "The above map locates the 5 loactions where the facility is to be established."
      ],
      "metadata": {
        "id": "7gX2c_t0QkN-"
      }
    }
  ]
}